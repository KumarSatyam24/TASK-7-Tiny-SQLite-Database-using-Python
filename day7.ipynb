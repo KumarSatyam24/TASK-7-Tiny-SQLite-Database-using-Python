{
  "nbformat": 4,
  "nbformat_minor": 0,
  "metadata": {
    "colab": {
      "provenance": [],
      "authorship_tag": "ABX9TyOGC674iu/HU/Ch7eLAAHSj",
      "include_colab_link": true
    },
    "kernelspec": {
      "name": "python3",
      "display_name": "Python 3"
    },
    "language_info": {
      "name": "python"
    }
  },
  "cells": [
    {
      "cell_type": "markdown",
      "metadata": {
        "id": "view-in-github",
        "colab_type": "text"
      },
      "source": [
        "<a href=\"https://colab.research.google.com/github/KumarSatyam24/TASK-7-Tiny-SQLite-Database-using-Python/blob/main/day7.ipynb\" target=\"_parent\"><img src=\"https://colab.research.google.com/assets/colab-badge.svg\" alt=\"Open In Colab\"/></a>"
      ]
    },
    {
      "cell_type": "code",
      "execution_count": 15,
      "metadata": {
        "id": "NkJQKQkvH0RA"
      },
      "outputs": [],
      "source": [
        "import sqlite3\n",
        "import pandas as pd\n",
        "import matplotlib.pyplot as plt"
      ]
    },
    {
      "cell_type": "code",
      "source": [
        "# Step 1: Connect to SQLite database (it will be created if it doesn't exist)\n",
        "conn = sqlite3.connect(\"sales_data.db\")\n",
        "cursor = conn.cursor()"
      ],
      "metadata": {
        "id": "FdGuroWbH_lz"
      },
      "execution_count": 16,
      "outputs": []
    },
    {
      "cell_type": "code",
      "source": [
        "cursor.execute(\"DROP TABLE IF EXISTS sales\")\n"
      ],
      "metadata": {
        "colab": {
          "base_uri": "https://localhost:8080/"
        },
        "id": "RlvmEfzdJ2Yl",
        "outputId": "8aa3acac-4c21-4510-994d-c2e351659ee2"
      },
      "execution_count": 17,
      "outputs": [
        {
          "output_type": "execute_result",
          "data": {
            "text/plain": [
              "<sqlite3.Cursor at 0x7b8fd47ef8c0>"
            ]
          },
          "metadata": {},
          "execution_count": 17
        }
      ]
    },
    {
      "cell_type": "code",
      "source": [
        "# Step 2: Create a simple sales table\n",
        "cursor.execute(\"\"\"\n",
        "CREATE TABLE IF NOT EXISTS sales (\n",
        "    id INTEGER PRIMARY KEY,\n",
        "    product TEXT,\n",
        "    quantity INTEGER,\n",
        "    price REAL,\n",
        "    region TEXT,\n",
        "    date TEXT\n",
        ")\n",
        "\"\"\")"
      ],
      "metadata": {
        "colab": {
          "base_uri": "https://localhost:8080/"
        },
        "id": "I0H82CDPIDjq",
        "outputId": "31cc1c6e-1a30-474e-80b8-bc8bc850676d"
      },
      "execution_count": 18,
      "outputs": [
        {
          "output_type": "execute_result",
          "data": {
            "text/plain": [
              "<sqlite3.Cursor at 0x7b8fd47ef8c0>"
            ]
          },
          "metadata": {},
          "execution_count": 18
        }
      ]
    },
    {
      "cell_type": "code",
      "source": [
        "# Step 3: Insert dummy data (skip if data already exists)\n",
        "cursor.execute(\"SELECT COUNT(*) FROM sales\")\n",
        "if cursor.fetchone()[0] == 0:\n",
        "    sample_data = [\n",
        "        (\"Apples\", 10, 1.5, \"North\", \"2024-01-10\"),\n",
        "        (\"Bananas\", 20, 0.8, \"South\", \"2024-01-15\"),\n",
        "        (\"Oranges\", 15, 1.2, \"East\", \"2024-02-01\"),\n",
        "        (\"Apples\", 5, 1.5, \"West\", \"2024-02-10\"),\n",
        "        (\"Bananas\", 10, 0.8, \"North\", \"2024-03-05\"),\n",
        "        (\"Oranges\", 10, 1.2, \"South\", \"2024-03-20\"),\n",
        "        (\"Grapes\", 8, 2.0, \"East\", \"2024-04-10\"),\n",
        "        (\"Apples\", 20, 1.6, \"North\", \"2024-04-15\"),\n",
        "        (\"Grapes\", 15, 2.1, \"West\", \"2024-05-01\"),\n",
        "        (\"Oranges\", 5, 1.3, \"East\", \"2024-05-10\"),\n",
        "        (\"Bananas\", 12, 0.85, \"West\", \"2024-06-12\")\n",
        "    ]\n",
        "    cursor.executemany(\"\"\"\n",
        "        INSERT INTO sales (product, quantity, price, region, date)\n",
        "        VALUES (?, ?, ?, ?, ?)\n",
        "    \"\"\", sample_data)\n",
        "    conn.commit()"
      ],
      "metadata": {
        "id": "3jJdizvUIGB-"
      },
      "execution_count": 19,
      "outputs": []
    },
    {
      "cell_type": "code",
      "source": [
        "# Step 4: Run SQL query for basic sales summary\n",
        "query1 = \"\"\"\n",
        "SELECT\n",
        "    product,\n",
        "    SUM(quantity) AS total_qty,\n",
        "    ROUND(SUM(quantity * price), 2) AS revenue\n",
        "FROM sales\n",
        "GROUP BY product\n",
        "\"\"\"\n",
        "df1 = pd.read_sql_query(query1, conn)\n",
        "print(\"\\nProduct Sales Summary:\\n\", df1)"
      ],
      "metadata": {
        "colab": {
          "base_uri": "https://localhost:8080/"
        },
        "id": "EfvVNBp7IIxA",
        "outputId": "fb0d2e3d-ee8d-4736-bd76-2bf8772ac60a"
      },
      "execution_count": 20,
      "outputs": [
        {
          "output_type": "stream",
          "name": "stdout",
          "text": [
            "\n",
            "Product Sales Summary:\n",
            "    product  total_qty  revenue\n",
            "0   Apples         35     54.5\n",
            "1  Bananas         42     34.2\n",
            "2   Grapes         23     47.5\n",
            "3  Oranges         30     36.5\n"
          ]
        }
      ]
    },
    {
      "cell_type": "code",
      "source": [
        "# Step 5: Query 2 - Revenue by region\n",
        "query2 = \"\"\"\n",
        "SELECT\n",
        "    region,\n",
        "    ROUND(SUM(quantity * price), 2) AS revenue\n",
        "FROM sales\n",
        "GROUP BY region\n",
        "\"\"\"\n",
        "df2 = pd.read_sql_query(query2, conn)\n",
        "print(\"\\nRevenue by Region:\\n\", df2)"
      ],
      "metadata": {
        "colab": {
          "base_uri": "https://localhost:8080/"
        },
        "id": "renO-S4aJNAd",
        "outputId": "41225569-be0b-48e5-f1e0-785200ad3553"
      },
      "execution_count": 21,
      "outputs": [
        {
          "output_type": "stream",
          "name": "stdout",
          "text": [
            "\n",
            "Revenue by Region:\n",
            "   region  revenue\n",
            "0   East     40.5\n",
            "1  North     55.0\n",
            "2  South     28.0\n",
            "3   West     49.2\n"
          ]
        }
      ]
    },
    {
      "cell_type": "code",
      "source": [
        "# Step 6: Query 3 - Monthly Sales Summary\n",
        "query3 = \"\"\"\n",
        "SELECT\n",
        "    SUBSTR(date, 1, 7) AS month,\n",
        "    ROUND(SUM(quantity * price), 2) AS revenue\n",
        "FROM sales\n",
        "GROUP BY month\n",
        "ORDER BY month\n",
        "\"\"\"\n",
        "df3 = pd.read_sql_query(query3, conn)\n",
        "print(\"\\nMonthly Revenue:\\n\", df3)"
      ],
      "metadata": {
        "colab": {
          "base_uri": "https://localhost:8080/"
        },
        "id": "hUFNSWW1JPIW",
        "outputId": "e55484d9-9fb1-44d7-915c-44960a50641b"
      },
      "execution_count": 22,
      "outputs": [
        {
          "output_type": "stream",
          "name": "stdout",
          "text": [
            "\n",
            "Monthly Revenue:\n",
            "      month  revenue\n",
            "0  2024-01     31.0\n",
            "1  2024-02     25.5\n",
            "2  2024-03     20.0\n",
            "3  2024-04     48.0\n",
            "4  2024-05     38.0\n",
            "5  2024-06     10.2\n"
          ]
        }
      ]
    },
    {
      "cell_type": "code",
      "source": [
        "# Step 7: Query 4 - Top-selling product by quantity\n",
        "query4 = \"\"\"\n",
        "SELECT product, SUM(quantity) AS total_qty\n",
        "FROM sales\n",
        "GROUP BY product\n",
        "ORDER BY total_qty DESC\n",
        "LIMIT 1\n",
        "\"\"\"\n",
        "df4 = pd.read_sql_query(query4, conn)\n",
        "print(\"\\nTop-Selling Product:\\n\", df4)"
      ],
      "metadata": {
        "colab": {
          "base_uri": "https://localhost:8080/"
        },
        "id": "yALeBTH6JRq3",
        "outputId": "6b935258-6b31-41ad-ecab-2f7f89050b22"
      },
      "execution_count": 23,
      "outputs": [
        {
          "output_type": "stream",
          "name": "stdout",
          "text": [
            "\n",
            "Top-Selling Product:\n",
            "    product  total_qty\n",
            "0  Bananas         42\n"
          ]
        }
      ]
    },
    {
      "cell_type": "code",
      "source": [
        "# Step 8: Query 5 - Average price per product\n",
        "query5 = \"\"\"\n",
        "SELECT\n",
        "    product,\n",
        "    ROUND(AVG(price), 2) AS avg_price\n",
        "FROM sales\n",
        "GROUP BY product\n",
        "\"\"\"\n",
        "df5 = pd.read_sql_query(query5, conn)\n",
        "print(\"\\nAverage Price Per Product:\\n\", df5)"
      ],
      "metadata": {
        "colab": {
          "base_uri": "https://localhost:8080/"
        },
        "id": "rnImdtAwJShx",
        "outputId": "6ffdf504-eaa5-45ef-9ad3-85601174a5aa"
      },
      "execution_count": 24,
      "outputs": [
        {
          "output_type": "stream",
          "name": "stdout",
          "text": [
            "\n",
            "Average Price Per Product:\n",
            "    product  avg_price\n",
            "0   Apples       1.53\n",
            "1  Bananas       0.82\n",
            "2   Grapes       2.05\n",
            "3  Oranges       1.23\n"
          ]
        }
      ]
    },
    {
      "cell_type": "code",
      "source": [
        "# Step 9: Bar chart - Revenue by product\n",
        "df1.plot(kind='bar', x='product', y='revenue', title='Revenue by Product', legend=False)\n",
        "plt.ylabel('Revenue ($)')\n",
        "plt.tight_layout()\n",
        "plt.savefig(\"sales_chart.png\")\n",
        "plt.show()\n"
      ],
      "metadata": {
        "colab": {
          "base_uri": "https://localhost:8080/",
          "height": 487
        },
        "id": "g3sia2NOJWag",
        "outputId": "38537322-705c-46fa-f2c6-f67529798a5c"
      },
      "execution_count": 25,
      "outputs": [
        {
          "output_type": "display_data",
          "data": {
            "text/plain": [
              "<Figure size 640x480 with 1 Axes>"
            ],
            "image/png": "[encoded data removed]"
          },
          "metadata": {}
        }
      ]
    },
    {
      "cell_type": "code",
      "source": [
        "# Step 10: plot revenue by region\n",
        "df2.plot(kind='pie', y='revenue', labels=df2['region'], autopct='%1.1f%%', legend=False)\n",
        "plt.title('Revenue Distribution by Region')\n",
        "plt.ylabel(\"\")\n",
        "plt.tight_layout()\n",
        "plt.show()"
      ],
      "metadata": {
        "colab": {
          "base_uri": "https://localhost:8080/",
          "height": 487
        },
        "id": "i7o450CJIK8U",
        "outputId": "61a0de97-0bfe-4858-d708-a8cbaf889c66"
      },
      "execution_count": 26,
      "outputs": [
        {
          "output_type": "display_data",
          "data": {
            "text/plain": [
              "<Figure size 640x480 with 1 Axes>"
            ],
            "image/png": "[encoded data removed]"
          },
          "metadata": {}
        }
      ]
    },
    {
      "cell_type": "code",
      "source": [
        "# Close the database connection\n",
        "conn.close()"
      ],
      "metadata": {
        "id": "6ImhAwFRIOt7"
      },
      "execution_count": 27,
      "outputs": []
    }
  ]
}